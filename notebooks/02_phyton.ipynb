{
  "nbformat": 4,
  "nbformat_minor": 0,
  "metadata": {
    "colab": {
      "name": "02- phyton.ipynb",
      "provenance": [],
      "authorship_tag": "ABX9TyMN6nbn7A3jAGewSvdTvVfG",
      "include_colab_link": true
    },
    "kernelspec": {
      "name": "python3",
      "display_name": "Python 3"
    }
  },
  "cells": [
    {
      "cell_type": "markdown",
      "metadata": {
        "id": "view-in-github",
        "colab_type": "text"
      },
      "source": [
        "<a href=\"https://colab.research.google.com/github/MARTIN0399/hacking-civico/blob/master/notebooks/02_phyton.ipynb\" target=\"_parent\"><img src=\"https://colab.research.google.com/assets/colab-badge.svg\" alt=\"Open In Colab\"/></a>"
      ]
    },
    {
      "cell_type": "code",
      "metadata": {
        "id": "9r8dDoDRMybR",
        "colab_type": "code",
        "colab": {
          "base_uri": "https://localhost:8080/",
          "height": 35
        },
        "outputId": "ed218bff-e98b-4c17-cb2c-b95f71ce4b36"
      },
      "source": [
        "# Condicionales\n",
        "\n",
        "valor_imeca = 101\n",
        "\n",
        "if valor_imeca > 100:\n",
        "  print(\"La Calidad del Aire es mala\")"
      ],
      "execution_count": 3,
      "outputs": [
        {
          "output_type": "stream",
          "text": [
            "La Calidad del Aire es mala\n"
          ],
          "name": "stdout"
        }
      ]
    },
    {
      "cell_type": "code",
      "metadata": {
        "id": "jxUOyZbAYi_c",
        "colab_type": "code",
        "colab": {
          "base_uri": "https://localhost:8080/",
          "height": 35
        },
        "outputId": "d10794f8-874d-4ab1-8d9c-745b8271174e"
      },
      "source": [
        "# Condicionales\n",
        "\n",
        "ciudad = \"León\" \n",
        "\n",
        "if ciudad == \"León\":\n",
        "  print(\"Sí es León\")"
      ],
      "execution_count": 4,
      "outputs": [
        {
          "output_type": "stream",
          "text": [
            "Sí es León\n"
          ],
          "name": "stdout"
        }
      ]
    },
    {
      "cell_type": "code",
      "metadata": {
        "id": "owneGhRSZhR4",
        "colab_type": "code",
        "colab": {
          "base_uri": "https://localhost:8080/",
          "height": 35
        },
        "outputId": "00219fdd-0890-4d50-d98f-95d85aaaf735"
      },
      "source": [
        "# Condicionales\n",
        "\n",
        "numero = 9\n",
        "\n",
        "# Determinar si es numero par o impar \n",
        "if numero % 2 == 0: \n",
        "  print(\"El número es par\")\n",
        "else: \n",
        "    print(\"El número \" + str(numero) + \" es impar\")\n"
      ],
      "execution_count": 10,
      "outputs": [
        {
          "output_type": "stream",
          "text": [
            "El número 9 es impar\n"
          ],
          "name": "stdout"
        }
      ]
    },
    {
      "cell_type": "code",
      "metadata": {
        "id": "Ko14fPxzc27u",
        "colab_type": "code",
        "colab": {
          "base_uri": "https://localhost:8080/",
          "height": 35
        },
        "outputId": "23efef4d-da00-40d9-8e80-5b2e8e7b93f5"
      },
      "source": [
        "# Condicionales\n",
        "\n",
        "valor_imeca = 202\n",
        "\n",
        "if valor_imeca > 0 and valor_imeca < 61:\n",
        "  print(\"Calidad del aire buena\") \n",
        "elif valor_imeca > 60 and valor_imeca < 101:\n",
        "  print(\"Calidad del aire regular\") \n",
        "elif valor_imeca > 100 and valor_imeca < 161:\n",
        "  print(\"Calidad del aire mala\") \n",
        "elif valor_imeca > 160 and valor_imeca < 201:\n",
        "  print(\"Calidad del aire muy mala\") \n",
        "else:\n",
        "    print(\"Calidad del aire extremadamente mala\")"
      ],
      "execution_count": 13,
      "outputs": [
        {
          "output_type": "stream",
          "text": [
            "Calidad del aire extremadamente mala\n"
          ],
          "name": "stdout"
        }
      ]
    },
    {
      "cell_type": "code",
      "metadata": {
        "id": "V9b5nV6jgIuA",
        "colab_type": "code",
        "colab": {
          "base_uri": "https://localhost:8080/",
          "height": 90
        },
        "outputId": "5ab0e23d-ddbb-4594-f800-ff146914cd6b"
      },
      "source": [
        "# Ciclo for \n",
        "for i in  \"Hola\":\n",
        "  print(i)"
      ],
      "execution_count": 14,
      "outputs": [
        {
          "output_type": "stream",
          "text": [
            "H\n",
            "o\n",
            "l\n",
            "a\n"
          ],
          "name": "stdout"
        }
      ]
    },
    {
      "cell_type": "code",
      "metadata": {
        "id": "H8gJQgtug4p8",
        "colab_type": "code",
        "colab": {
          "base_uri": "https://localhost:8080/",
          "height": 90
        },
        "outputId": "2d6c566b-0634-4fd6-a7dd-67fbcda436fc"
      },
      "source": [
        "# Ciclo For \n",
        "for i in range(4):\n",
        "  print(\"Hey\")\n",
        "\n"
      ],
      "execution_count": 17,
      "outputs": [
        {
          "output_type": "stream",
          "text": [
            "Hey\n",
            "Hey\n",
            "Hey\n",
            "Hey\n"
          ],
          "name": "stdout"
        }
      ]
    },
    {
      "cell_type": "code",
      "metadata": {
        "id": "QzEFPrnbhkN0",
        "colab_type": "code",
        "colab": {
          "base_uri": "https://localhost:8080/",
          "height": 199
        },
        "outputId": "46272a6e-8d58-4a32-f1f0-59284a3911ae"
      },
      "source": [
        "# Ciclo for\n",
        "for i in range(5, 51, 5):\n",
        "  print(\"El número: \" + str(i) +  \" es múltiplo de 5.\")\n"
      ],
      "execution_count": 23,
      "outputs": [
        {
          "output_type": "stream",
          "text": [
            "El número: 5 es múltiplo de 5.\n",
            "El número: 10 es múltiplo de 5.\n",
            "El número: 15 es múltiplo de 5.\n",
            "El número: 20 es múltiplo de 5.\n",
            "El número: 25 es múltiplo de 5.\n",
            "El número: 30 es múltiplo de 5.\n",
            "El número: 35 es múltiplo de 5.\n",
            "El número: 40 es múltiplo de 5.\n",
            "El número: 45 es múltiplo de 5.\n",
            "El número: 50 es múltiplo de 5.\n"
          ],
          "name": "stdout"
        }
      ]
    },
    {
      "cell_type": "code",
      "metadata": {
        "id": "c4doKiocjfD2",
        "colab_type": "code",
        "colab": {
          "base_uri": "https://localhost:8080/",
          "height": 108
        },
        "outputId": "644c5e67-8869-44c6-e41c-f2ffc4bb39a3"
      },
      "source": [
        "# Ciclo While \n",
        "\n",
        "numero = 0 \n",
        "while numero < 5:\n",
        "  print(\"Hola\")\n",
        "  numero = numero + 1 "
      ],
      "execution_count": 25,
      "outputs": [
        {
          "output_type": "stream",
          "text": [
            "Hola\n",
            "Hola\n",
            "Hola\n",
            "Hola\n",
            "Hola\n"
          ],
          "name": "stdout"
        }
      ]
    },
    {
      "cell_type": "code",
      "metadata": {
        "id": "MsyYCFbLkhjT",
        "colab_type": "code",
        "colab": {
          "base_uri": "https://localhost:8080/",
          "height": 199
        },
        "outputId": "c28a53ac-97e3-4b86-e528-b286367cccf3"
      },
      "source": [
        "# Numero de personas enfermas por un virus después de 10 días de contagios \n",
        "\n",
        "personas_enfermas = 5\n",
        "día = 0 \n",
        "\n",
        "# ciclo while\n",
        "while día < 10: \n",
        "  print(\"Día: \" + str(día) + \"número de personas enfermas:\" + str(personas_enfermas))\n",
        "  personas_enfermas = personas_enfermas * 2\n",
        "  día = día + 1"
      ],
      "execution_count": 26,
      "outputs": [
        {
          "output_type": "stream",
          "text": [
            "Día: 0número de personas enfermas:5\n",
            "Día: 1número de personas enfermas:10\n",
            "Día: 2número de personas enfermas:20\n",
            "Día: 3número de personas enfermas:40\n",
            "Día: 4número de personas enfermas:80\n",
            "Día: 5número de personas enfermas:160\n",
            "Día: 6número de personas enfermas:320\n",
            "Día: 7número de personas enfermas:640\n",
            "Día: 8número de personas enfermas:1280\n",
            "Día: 9número de personas enfermas:2560\n"
          ],
          "name": "stdout"
        }
      ]
    }
  ]
}
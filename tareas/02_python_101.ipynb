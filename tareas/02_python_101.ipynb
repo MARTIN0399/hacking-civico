{
  "nbformat": 4,
  "nbformat_minor": 0,
  "metadata": {
    "colab": {
      "name": "tareas/02-python-101.ipynb",
      "provenance": [],
      "authorship_tag": "ABX9TyOOgKdCdnuC4rt8bouDsrl8",
      "include_colab_link": true
    },
    "kernelspec": {
      "name": "python3",
      "display_name": "Python 3"
    }
  },
  "cells": [
    {
      "cell_type": "markdown",
      "metadata": {
        "id": "view-in-github",
        "colab_type": "text"
      },
      "source": [
        "<a href=\"https://colab.research.google.com/github/MARTIN0399/hacking-civico/blob/master/tareas/02_python_101.ipynb\" target=\"_parent\"><img src=\"https://colab.research.google.com/assets/colab-badge.svg\" alt=\"Open In Colab\"/></a>"
      ]
    },
    {
      "cell_type": "markdown",
      "metadata": {
        "id": "j2mXNBPrvTLE",
        "colab_type": "text"
      },
      "source": [
        "**Definición de Densidad Poblacional**: *coeficiente de la población total entre la superficie territorial*.\n",
        "\n",
        "**Unidad de Medida:** *habitantes por kilometro cuadrado*."
      ]
    },
    {
      "cell_type": "markdown",
      "metadata": {
        "id": "1rEKVIwGkd35",
        "colab_type": "text"
      },
      "source": [
        "***Densidad Poblacional a Nivel Nacional, Estatal y Municipal***"
      ]
    },
    {
      "cell_type": "code",
      "metadata": {
        "id": "x5Wg_fWqqQBI",
        "colab_type": "code",
        "colab": {
          "base_uri": "https://localhost:8080/",
          "height": 72
        },
        "outputId": "2f041342-3a9c-475d-bf0c-b3ec49b0052f"
      },
      "source": [
        "def densidad_poblacional(poblacion, area_ciudad):\n",
        "  densidad = poblacion/area_ciudad\n",
        "  \n",
        "  print(densidad)\n",
        "\n",
        "\n",
        "leon_cuidad = {'no_hab': 1578626,'km2': 1219}\n",
        "gto_estado = {'no_hab': 5853677,'km2': 30589}\n",
        "mx_pais = {'no_hab': 119938473,'km2': 1959248}\n",
        "\n",
        "\n",
        "densidad_ciudad = densidad_poblacional(leon_cuidad['no_hab'], leon_cuidad['km2'])\n",
        "densidad_estado = densidad_poblacional(gto_estado['no_hab'], gto_estado['km2'])\n",
        "densidad_pais = densidad_poblacional(mx_pais['no_hab'], mx_pais['km2'])\n",
        "\n",
        "\n"
      ],
      "execution_count": 32,
      "outputs": [
        {
          "output_type": "stream",
          "text": [
            "1295.017227235439\n",
            "191.3654254797476\n",
            "61.21658564918785\n"
          ],
          "name": "stdout"
        }
      ]
    },
    {
      "cell_type": "markdown",
      "metadata": {
        "id": "jy1juDoHa4F6",
        "colab_type": "text"
      },
      "source": [
        "***Gasto Público en Salud y Gasto per cápita en salud a Nivel Nacional 2020 y 2019***"
      ]
    },
    {
      "cell_type": "code",
      "metadata": {
        "id": "5XlzOcRia_LM",
        "colab_type": "code",
        "colab": {
          "base_uri": "https://localhost:8080/",
          "height": 35
        },
        "outputId": "568fa77a-f700-4e5f-f957-718f89ae0a9e"
      },
      "source": [
        "gasto_salud = {'2020': 640108780839}\n",
        "\n",
        "def gasto_per_capita(presupuesto, poblacion):\n",
        "  gasto = presupuesto/ poblacion\n",
        "  \n",
        "  print(gasto)\n",
        "\n",
        "gasto_mx = {'gasto': 640108780839,'poblacion': 119938473}\n",
        "\n",
        "gasto_pais = gasto_per_capita(gasto_mx['gasto'], gasto_mx['poblacion'])\n"
      ],
      "execution_count": 60,
      "outputs": [
        {
          "output_type": "stream",
          "text": [
            "5170.224076798109\n"
          ],
          "name": "stdout"
        }
      ]
    },
    {
      "cell_type": "code",
      "metadata": {
        "id": "o8tViaLQlAPt",
        "colab_type": "code",
        "colab": {
          "base_uri": "https://localhost:8080/",
          "height": 35
        },
        "outputId": "d599dce8-80bc-4d91-92a4-4659af84b36e"
      },
      "source": [
        "gasto_salud = {'2019': 602389948813}\n",
        "\n",
        "def gasto_per_capita(presupuesto, poblacion):\n",
        "  gasto = presupuesto/ poblacion\n",
        "  \n",
        "  print(gasto)\n",
        "\n",
        "gasto_mx = {'gasto': 602389948813,'poblacion': 119938473}\n",
        "\n",
        "gasto_pais = gasto_per_capita(gasto_mx['gasto'], gasto_mx['poblacion'])"
      ],
      "execution_count": 64,
      "outputs": [
        {
          "output_type": "stream",
          "text": [
            "5022.491397009865\n"
          ],
          "name": "stdout"
        }
      ]
    },
    {
      "cell_type": "markdown",
      "metadata": {
        "id": "NwwDan-pj0Ok",
        "colab_type": "text"
      },
      "source": [
        "***Gasto Público en Salud destinado a Gto y Gasto per cápita en Salud en Guanajuato 2010 y 2019***"
      ]
    },
    {
      "cell_type": "code",
      "metadata": {
        "id": "iivPXlo4kAse",
        "colab_type": "code",
        "colab": {
          "base_uri": "https://localhost:8080/",
          "height": 35
        },
        "outputId": "42f421c8-135c-408a-f462-e92fd120f9ed"
      },
      "source": [
        "gasto_salud = {'2020': 19346594353}\n",
        "\n",
        "def gasto_per_capita(presupuesto, poblacion):\n",
        "  gasto = presupuesto/ poblacion\n",
        "  \n",
        "  print(gasto)\n",
        "\n",
        "gasto_gto = {'gasto': 19346594353,'poblacion': 5853677}\n",
        "\n",
        "gasto_gto = gasto_per_capita(gasto_gto['gasto'], gasto_gto['poblacion'])"
      ],
      "execution_count": 62,
      "outputs": [
        {
          "output_type": "stream",
          "text": [
            "3305.0327773466147\n"
          ],
          "name": "stdout"
        }
      ]
    },
    {
      "cell_type": "code",
      "metadata": {
        "id": "sOn64T-hmh3J",
        "colab_type": "code",
        "colab": {
          "base_uri": "https://localhost:8080/",
          "height": 35
        },
        "outputId": "337ff22a-43c1-4b87-8f79-f7a93eff2899"
      },
      "source": [
        "gasto_salud = {'2019': 15752248131}\n",
        "\n",
        "def gasto_per_capita(presupuesto, poblacion):\n",
        "  gasto = presupuesto/ poblacion\n",
        "  \n",
        "  print(gasto)\n",
        "\n",
        "gasto_gto = {'gasto': 15752248131,'poblacion': 5853677}\n",
        "\n",
        "gasto_gto = gasto_per_capita(gasto_gto['gasto'], gasto_gto['poblacion'])"
      ],
      "execution_count": 65,
      "outputs": [
        {
          "output_type": "stream",
          "text": [
            "2691.000567848209\n"
          ],
          "name": "stdout"
        }
      ]
    }
  ]
}